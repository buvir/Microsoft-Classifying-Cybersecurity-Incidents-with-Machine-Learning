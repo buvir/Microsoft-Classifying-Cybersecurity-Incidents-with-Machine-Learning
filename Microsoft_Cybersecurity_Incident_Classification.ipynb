{
 "cells": [
  {
   "cell_type": "code",
   "execution_count": null,
   "id": "bab8dda5",
   "metadata": {},
   "outputs": [],
   "source": [
    "# Microsoft Cybersecurity Incident Classification"
   ]
  },
  {
   "cell_type": "code",
   "execution_count": null,
   "id": "d0d9524c",
   "metadata": {},
   "outputs": [],
   "source": [
    "## Classifying incidents as TP, BP, or FP using Machine Learning"
   ]
  },
  {
   "cell_type": "code",
   "execution_count": null,
   "id": "24fcb22d",
   "metadata": {},
   "outputs": [],
   "source": [
    "[The entire notebook content goes here... It's long, so you can paste it in chunks if needed]"
   ]
  }
 ],
 "metadata": {},
 "nbformat": 4,
 "nbformat_minor": 5
}
